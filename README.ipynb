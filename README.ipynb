{
 "cells": [
  {
   "cell_type": "markdown",
   "id": "eab1391b",
   "metadata": {},
   "source": [
    "<style = \"font-family:georgia,garamond,serif;font-size:20px;font-style:italic;\">\n",
    "    \n",
    "# Rider Demographics And Their Bike Share Patterns\n",
    "\n",
    "## by Secil Carver\n",
    "<a href=\"https://www.udacity.com/course/data-analyst-nanodegree--nd002\">Udacity Data Analyst Nanodegree</a><br>\n",
    "<em>Project 5: Data Visualization</em>\n",
    "<>"
   ]
  },
  {
   "cell_type": "markdown",
   "id": "889320e1",
   "metadata": {},
   "source": [
    "## Twitter Archive Wrangling and Analysis of \"WeRateDogs\"\n",
    "\n",
    "<a href=\"https://www.udacity.com/course/data-analyst-nanodegree--nd002\">Udacity - Data Analyst Nanodegree</a><br>\n",
    "<em>Project 4: Data Wrangling</em>\n",
    "\n",
    "### Table of Contents\n",
    "\n",
    "1. [Project Overview](#overview)\n",
    "2. [Project Flow](#projectflow)\n",
    "3. [Requirements](#requirements)\n",
    "4. [Key Files](#keyfiles)\n",
    "5. [Summary of Findings](#findings)\n",
    "6. [Acknowledgements](#acknowledgements)"
   ]
  },
  {
   "cell_type": "markdown",
   "id": "388bc5b1",
   "metadata": {},
   "source": [
    "<p style = \"font-family:georgia,garamond,serif;font-size:16px;font-style:italic;\">\n",
    "    \n",
    "### 1. Project Overview <a name=\"overview\"></a>\n",
    "\n",
    "WeRateDogs is a twitter group that rates people's dogs on an unusual and humorous way. For this project I used three datasets, one in a .csv format, the second one in .tsv format, the third was a Jason extract from twitter API. The csv dataset included over 2,000 instances and 18 variables including datetime of tweets, text, rating numerator, rating denominator, dog age classifications as 'duggo','floofer','pupper','puppo'. The second dataset had images as well as probablity of machine image predictions. The API dataset had tweet id, retweet count and favorite count. \n",
    "After meging all three datasets, I was able to find out most tweeted dog breed from image predictions, most common dog life stage, most common dog names.\n",
    "\n",
    "\n",
    "### 2. Project Flow <a name=\"projectflow\"></a>\n",
    "    \n",
    "- Step 1: Gathering data\n",
    "- Step 2: Assessing data\n",
    "- Step 3: Cleaning data\n",
    "- Step 4: Storing data\n",
    "- Step 5: Analyzing, and visualizing data\n",
    "- Step 6: Reporting wrangling efforts, data analyses, and visualizations\n",
    "\n",
    "\n",
    "### 2. Requirements <a name=\"requirements\"></a>\n",
    "\n",
    "This project was created using Anaconda's Jupyter Notebook using the language python. The following language and packages were used:\n",
    "\n",
    "- python 3.7.11\n",
    "- pandas \n",
    "- numpy \n",
    "- matplotlib \n",
    "- json\n",
    "- requests\n",
    "- pil\n",
    "- io\n",
    "\n",
    "\n",
    "### 3. Key Files <a name=\"keyfiles\"></a>\n",
    "\n",
    "The project consist of three main files: \n",
    "- #### `wrangle_act.ipynb` and `wrangle_act.html`: \n",
    "    This is the file I used to gather, assess, clean, store, and analyze the data.\n",
    "\n",
    "- #### `wrangle_report.md` : \n",
    "    This is a markdown file explaining the gathering, assessing, and cleaning efforts for the project.\n",
    "\n",
    "- #### `act_report.ipynb` and `act_report.html`: \n",
    "    This file is dedicated only to the findings and visuals.\n",
    "    \n",
    "-- Datasets used: `twitter-archive-enhanced.csv`, `image_predictions.tsv`\n",
    "\n",
    "    \n",
    "### 4. Summary of Findings <a name=\"findings\"></a>\n",
    "\n",
    "- The most tweeted dog breed is Golden Retriever\n",
    "- The most commmon dog name is Charlie\n",
    "- There is a high correlation between retweet count and favorite count. The more a tweet is retweeted the higher the favorite count.\n",
    "- The most favored and retweeted tweet is a clip of a Golden Retriever in a pool\n",
    "- The most common dog life stage is 'pupper'\n",
    "    \n",
    "    \n",
    "### 5. Acknowledgements <a name=\"acknowledgements\"></a>\n",
    "This project was completed as a requirement for Udacity's <a href=\"https://www.udacity.com/course/data-analyst-nanodegree--nd002\">Data Analyst Nanodegree</a>. The dataset was provided by Udacity."
   ]
  }
 ],
 "metadata": {
  "kernelspec": {
   "display_name": "Python 3 (ipykernel)",
   "language": "python",
   "name": "python3"
  },
  "language_info": {
   "codemirror_mode": {
    "name": "ipython",
    "version": 3
   },
   "file_extension": ".py",
   "mimetype": "text/x-python",
   "name": "python",
   "nbconvert_exporter": "python",
   "pygments_lexer": "ipython3",
   "version": "3.7.11"
  }
 },
 "nbformat": 4,
 "nbformat_minor": 5
}
